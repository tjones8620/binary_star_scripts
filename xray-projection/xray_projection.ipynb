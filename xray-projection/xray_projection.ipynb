{
 "cells": [
  {
   "cell_type": "code",
   "execution_count": 80,
   "metadata": {},
   "outputs": [],
   "source": [
    "import numpy as np\n",
    "import matplotlib.pyplot as plt\n",
    "from astropy.io import fits\n",
    "import os\n",
    "import re\n",
    "import glob\n",
    "from pypion.ReadData import ReadData\n",
    "import astropy.units as u\n",
    "\n",
    "import pathlib\n",
    "home = str(pathlib.Path.home())\n"
   ]
  },
  {
   "cell_type": "markdown",
   "metadata": {},
   "source": [
    "### Info\n",
    "\n",
    "Simulation started at covertex before periastron\n",
    "\n",
    "This coincides with a time in seconds before periastron of:\n",
    "\n",
    "$$2.679 \\times 10^7 s$$"
   ]
  },
  {
   "cell_type": "code",
   "execution_count": 125,
   "metadata": {},
   "outputs": [
    {
     "name": "stdout",
     "output_type": "stream",
     "text": [
      "-0.8489238725378355 yr\n"
     ]
    }
   ],
   "source": [
    "start_time = -2.679e7 * u.s\n",
    "print(start_time.to(u.yr))"
   ]
  },
  {
   "cell_type": "code",
   "execution_count": 98,
   "metadata": {},
   "outputs": [],
   "source": [
    "def make_snapshots(data_path):\n",
    "        ########## Cataloging silo files ###############################\n",
    "        # Get the list of silo files\n",
    "        silo_files = os.listdir(data_path)\n",
    "        silo_files = sorted([f for f in silo_files if f.endswith('.silo')])\n",
    "        filename=(silo_files[0]).replace('_level00_0000.00000000.silo','')\n",
    "        \n",
    "        print(\"Info from silo files:\")\n",
    "        print(f\"Basename of silo files: {filename}\")\n",
    "\n",
    "        file_list = glob.glob(os.path.join(data_path, '*.silo'), recursive=False)\n",
    "\n",
    "        level_list = []\n",
    "        files = []\n",
    "\n",
    "        for file in file_list:\n",
    "            level = re.search('_level(.*)_', file)\n",
    "            if level == None:\n",
    "                pass\n",
    "            else:\n",
    "                level = level.group(1)\n",
    "                if not level in level_list:\n",
    "                    level_list.append(level)\n",
    "        level_list.sort()\n",
    "\n",
    "        ########## Categorizing data files into levels #################\n",
    "        if len(level_list) == 1: \n",
    "            print('Simulation Info: Single level')\n",
    "            catalog = []\n",
    "            files = sorted(glob.glob(filename + '_0000.*.silo'))\n",
    "            catalog.append(files)\n",
    "        else:\n",
    "            print(f'Simulation Info: {len(level_list)} levels')\n",
    "            catalog = []\n",
    "            for i in range(len(level_list)):\n",
    "                files = sorted(glob.glob(os.path.join(data_path, f\"{filename}_level{level_list[i]}_0000.*.silo\")))\n",
    "                catalog.append(files)\n",
    "                \n",
    "\n",
    "        # Bundle silo files of different levels of same time instant into a snapshot.\n",
    "        evolution = np.array(catalog).T\n",
    "        print(f\"Number of snapshots: {evolution.shape[0]}\")\n",
    "\n",
    "        return evolution"
   ]
  },
  {
   "cell_type": "code",
   "execution_count": 99,
   "metadata": {},
   "outputs": [
    {
     "name": "stdout",
     "output_type": "stream",
     "text": [
      "Info from silo files:\n",
      "Basename of silo files: wr140_mhd_cool_d3l7n256\n",
      "Simulation Info: 7 levels\n",
      "Number of snapshots: 285\n"
     ]
    }
   ],
   "source": [
    "data_dir = \"/mnt/massive-stars/data/thomas_simulations/wr140-sims/covertex_start/red_z_res/wr140-mhd-l7n256/\"\n",
    "\n",
    "evolution = make_snapshots(data_dir)\n",
    "\n",
    "fits_dir = os.path.join(data_dir, \"proj/XY_proj2\")\n",
    "png_dir = os.path.join(home, \"code/project/images/xray-proj/wr140-mhd-n256/XY/\")\n",
    "\n",
    "if not os.path.exists(png_dir):\n",
    "    os.makedirs(png_dir)"
   ]
  },
  {
   "cell_type": "code",
   "execution_count": 201,
   "metadata": {},
   "outputs": [],
   "source": [
    "def create_xray_proj_img(data_path, fits_dir, png_dir, start_time, **kwargs):\n",
    "    start_time = start_time*u.s\n",
    "\n",
    "    evolution = make_snapshots(data_path)\n",
    "\n",
    "    fits_dir = os.path.join(data_path, fits_dir)\n",
    "    png_dir = os.path.join(home, png_dir)\n",
    "\n",
    "    if not os.path.exists(png_dir):\n",
    "        os.makedirs(png_dir)\n",
    "\n",
    "    fits_files = sorted(os.listdir(fits_dir))\n",
    "    fits_files.sort(key=lambda test_string : list(\n",
    "        map(int, re.findall(r'\\d+', test_string))))\n",
    "\n",
    "    def snapshots_before_after_periastron(evolution, tolerance, start_time):\n",
    "        sim_time_array = []\n",
    "        for file in evolution:\n",
    "            data = ReadData(file)\n",
    "            sim_time = data.sim_time().to(u.yr) + start_time.to(u.yr)\n",
    "            data.close()\n",
    "            sim_time_array.append(np.abs(sim_time.value))\n",
    "        \n",
    "        sim_time_array = np.array(sim_time_array)\n",
    "        args = np.where(sim_time_array < tolerance)\n",
    "\n",
    "        return list(args[0])\n",
    "    \n",
    "    args = snapshots_before_after_periastron(evolution, kwargs.get(\"timerange\", 0.01), start_time)\n",
    "\n",
    "    for i in args:\n",
    "        file = fits_files[i]\n",
    "        data = ReadData(evolution[i])\n",
    "        sim_time = data.sim_time().to(u.yr) + start_time.to(u.yr)\n",
    "\n",
    "        data.close()\n",
    "        print(f\"Processing {file} at {sim_time:3e}\")\n",
    "\n",
    "        hdul = fits.open(os.path.join(fits_dir, file))\n",
    "        data = hdul[9].data - hdul[11].data\n",
    "        hdul.close()\n",
    "\n",
    "        fig, ax = plt.subplots(figsize=(10,10))\n",
    "        image = ax.imshow(data, cmap=\"viridis\", origin=\"lower\", vmin=0, vmax=0.00225)\n",
    "        fig.colorbar\n",
    "\n",
    "        cb = fig.colorbar(image, ax=ax, orientation=\"vertical\", pad=0.1)\n",
    "\n",
    "        if sim_time < 0:\n",
    "            ax.text(0.05, 0.95, f\"t = {abs(sim_time):.4f} before periastron\", \n",
    "            bbox=dict(facecolor='white', alpha=0.5), transform=ax.transAxes)\n",
    "        else:\n",
    "            ax.text(0.05, 0.95, f\"t = {sim_time:.4f} after periastron\", \n",
    "            bbox=dict(facecolor='white', alpha=0.5), transform=ax.transAxes)\n",
    "\n",
    "        plt.tick_params(axis='both', bottom=False, left=False, labelbottom=False, labelleft=False)\n",
    "        plt.savefig(os.path.join(png_dir, file[:-5] + \".png\"), bbox_inches=\"tight\", pad_inches=0)\n",
    "        plt.close(fig)\n",
    "    \n",
    "\n",
    "\n"
   ]
  },
  {
   "cell_type": "code",
   "execution_count": 202,
   "metadata": {},
   "outputs": [
    {
     "name": "stdout",
     "output_type": "stream",
     "text": [
      "Info from silo files:\n",
      "Basename of silo files: wr140_mhd_cool_d3l7n256\n",
      "Simulation Info: 7 levels\n",
      "Number of snapshots: 285\n",
      "Processing wr140_mhd_cool_d3l7n256_XY_img.00440320.fits at -3.737547e-02 yr\n",
      "Processing wr140_mhd_cool_d3l7n256_XY_img.00442368.fits at -3.302111e-02 yr\n",
      "Processing wr140_mhd_cool_d3l7n256_XY_img.00444416.fits at -2.865863e-02 yr\n",
      "Processing wr140_mhd_cool_d3l7n256_XY_img.00446464.fits at -2.428196e-02 yr\n",
      "Processing wr140_mhd_cool_d3l7n256_XY_img.00448512.fits at -1.988378e-02 yr\n",
      "Processing wr140_mhd_cool_d3l7n256_XY_img.00450560.fits at -1.547994e-02 yr\n",
      "Processing wr140_mhd_cool_d3l7n256_XY_img.00452608.fits at -1.105682e-02 yr\n",
      "Processing wr140_mhd_cool_d3l7n256_XY_img.00454656.fits at -6.643551e-03 yr\n",
      "Processing wr140_mhd_cool_d3l7n256_XY_img.00456704.fits at -2.241291e-03 yr\n",
      "Processing wr140_mhd_cool_d3l7n256_XY_img.00458752.fits at 2.152564e-03 yr\n",
      "Processing wr140_mhd_cool_d3l7n256_XY_img.00460800.fits at 6.532131e-03 yr\n",
      "Processing wr140_mhd_cool_d3l7n256_XY_img.00462848.fits at 1.092371e-02 yr\n",
      "Processing wr140_mhd_cool_d3l7n256_XY_img.00464896.fits at 1.531037e-02 yr\n",
      "Processing wr140_mhd_cool_d3l7n256_XY_img.00466944.fits at 1.966169e-02 yr\n",
      "Processing wr140_mhd_cool_d3l7n256_XY_img.00468992.fits at 2.401837e-02 yr\n",
      "Processing wr140_mhd_cool_d3l7n256_XY_img.00471040.fits at 2.840134e-02 yr\n",
      "Processing wr140_mhd_cool_d3l7n256_XY_img.00473088.fits at 3.278824e-02 yr\n",
      "Processing wr140_mhd_cool_d3l7n256_XY_img.00475136.fits at 3.717341e-02 yr\n"
     ]
    }
   ],
   "source": [
    "create_xray_proj_img(data_dir, \"proj/XY_proj2\", \"code/project/images/xray-proj/wr140-mhd-n256/XY/\", start_time.value, timerange=0.04)"
   ]
  },
  {
   "cell_type": "code",
   "execution_count": 152,
   "metadata": {},
   "outputs": [],
   "source": [
    "# fits_files = sorted(os.listdir(fits_dir))\n",
    "# fits_files.sort(key=lambda test_string : list(\n",
    "#         map(int, re.findall(r'\\d+', test_string))))"
   ]
  },
  {
   "cell_type": "code",
   "execution_count": null,
   "metadata": {},
   "outputs": [],
   "source": [
    "\n",
    "    \n",
    "    "
   ]
  },
  {
   "cell_type": "code",
   "execution_count": 153,
   "metadata": {},
   "outputs": [],
   "source": [
    "# def snapshots_before_after_periastron(evolution, tolerance, start_time):\n",
    "    \n",
    "#     sim_time_array = []\n",
    "#     for file in evolution:\n",
    "#         data = ReadData(file)\n",
    "#         sim_time = data.sim_time().to(u.yr) + start_time.to(u.yr)\n",
    "#         data.close()\n",
    "#         sim_time_array.append(np.abs(sim_time.value))\n",
    "    \n",
    "#     sim_time_array = np.array(sim_time_array)\n",
    "#     args = np.where(sim_time_array < tolerance)\n",
    "\n",
    "#     return list(args[0])\n",
    "\n",
    "    "
   ]
  },
  {
   "cell_type": "code",
   "execution_count": 154,
   "metadata": {},
   "outputs": [],
   "source": [
    "# args = snapshots_before_after_periastron(evolution, 0.03, start_time)\n",
    "# print(args)"
   ]
  },
  {
   "cell_type": "code",
   "execution_count": 155,
   "metadata": {},
   "outputs": [],
   "source": [
    "# # i = args[0]\n",
    "# # for file in fits_files[args[0]+1:args[-1]+2]:\n",
    "\n",
    "# i = 0\n",
    "# for file in fits_files:\n",
    "#     data = ReadData(evolution[i])\n",
    "#     sim_time = data.sim_time().to(u.yr) + start_time.to(u.yr)\n",
    "#     data.close()\n",
    "#     i += 1\n",
    "\n",
    "#     hdul = fits.open(os.path.join(fits_dir, file))\n",
    "#     data = hdul[9].data -\n",
    "\n",
    "#     fig, ax = plt.subplots(figsize=(10,10))\n",
    "#     ax.grid(True, color=\"white\")\n",
    "#     ax.imshow(data, cmap=\"inferno\")\n",
    "#     ax.text(0.05, 0.95, f\"t = {abs(sim_time):.4f} before periastron\", bbox=dict(facecolor='white', alpha=0.5), transform=ax.transAxes)\n",
    "#     plt.tick_params(axis='both', bottom=False, left=False, labelbottom=False, labelleft=False)\n",
    "#     plt.savefig(os.path.join(png_dir, file[:-4] + \"png\"), bbox_inches=\"tight\", pad_inches=0)\n",
    "#     plt.close()"
   ]
  },
  {
   "cell_type": "code",
   "execution_count": 156,
   "metadata": {},
   "outputs": [],
   "source": [
    "# # hdul = fits.open('/mnt/massive-stars/data/thomas_simulations/wr140-sims/covertex_start/red_z_res/wr140-hydro-l7n128/proj/wr140_hydro_cool_d3l7n128_XZ_img.00126976.fits')\n",
    "# # hdul = fits.open(\"/mnt/massive-stars/data/thomas_simulations/wr140-sims/covertex_start/red_z_res/wr140-mhd-l7n256/proj/wr140_mhd_cool_d3l7n256_XY_img.00526336.fits\")\n",
    "# hdul = fits.open(\"/mnt/massive-stars/data/thomas_simulations/wr140-sims/covertex_start/red_z_res/wr140-mhd-l7n256/proj/XY_proj/wr140_mhd_cool_d3l7n256_XY_img.00475136.fits\")\n",
    "\n",
    "# hdul.info()"
   ]
  },
  {
   "cell_type": "code",
   "execution_count": 157,
   "metadata": {},
   "outputs": [],
   "source": [
    "# \"\"\" Display the image data with Matplotlib \"\"\"\n",
    "\n",
    "# plt.figure()\n",
    "# plt.imshow(hdul[9].data-hdul[10].data, cmap='inferno')\n",
    "# plt.colorbar(location='right', label = 'Intensity')\n",
    "# plt.xlim(274, 1024-274)\n",
    "# plt.ylim(1024-274, 274)\n",
    "# plt.tick_params(axis='both', bottom=False, left=False, labelbottom=False, labelleft=False)\n",
    "# plt.show()"
   ]
  },
  {
   "cell_type": "code",
   "execution_count": null,
   "metadata": {},
   "outputs": [],
   "source": []
  }
 ],
 "metadata": {
  "kernelspec": {
   "display_name": "Python 3.8.10 ('env': venv)",
   "language": "python",
   "name": "python3"
  },
  "language_info": {
   "codemirror_mode": {
    "name": "ipython",
    "version": 3
   },
   "file_extension": ".py",
   "mimetype": "text/x-python",
   "name": "python",
   "nbconvert_exporter": "python",
   "pygments_lexer": "ipython3",
   "version": "3.8.10"
  },
  "orig_nbformat": 4,
  "vscode": {
   "interpreter": {
    "hash": "40a36c5750d9eff67de0d7f17c8d6f4ec29c227bb80165b326fe4f6d1480f8fd"
   }
  }
 },
 "nbformat": 4,
 "nbformat_minor": 2
}
