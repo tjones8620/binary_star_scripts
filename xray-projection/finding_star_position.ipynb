{
 "cells": [
  {
   "cell_type": "code",
   "execution_count": 17,
   "metadata": {},
   "outputs": [],
   "source": [
    "import pandas as pd\n",
    "import matplotlib.pyplot as plt"
   ]
  },
  {
   "cell_type": "code",
   "execution_count": 36,
   "metadata": {},
   "outputs": [
    {
     "data": {
      "text/html": [
       "<div>\n",
       "<style scoped>\n",
       "    .dataframe tbody tr th:only-of-type {\n",
       "        vertical-align: middle;\n",
       "    }\n",
       "\n",
       "    .dataframe tbody tr th {\n",
       "        vertical-align: top;\n",
       "    }\n",
       "\n",
       "    .dataframe thead th {\n",
       "        text-align: right;\n",
       "    }\n",
       "</style>\n",
       "<table border=\"1\" class=\"dataframe\">\n",
       "  <thead>\n",
       "    <tr style=\"text-align: right;\">\n",
       "      <th></th>\n",
       "      <th>time</th>\n",
       "      <th>unknown</th>\n",
       "      <th>star1_x</th>\n",
       "      <th>star1_y</th>\n",
       "      <th>star1_z</th>\n",
       "      <th>star1_vx</th>\n",
       "      <th>star1_vy</th>\n",
       "      <th>star1_vz</th>\n",
       "      <th>star2_x</th>\n",
       "      <th>star2_y</th>\n",
       "      <th>star2_z</th>\n",
       "      <th>star2_vx</th>\n",
       "      <th>star2_vy</th>\n",
       "      <th>star2_vz</th>\n",
       "    </tr>\n",
       "  </thead>\n",
       "  <tbody>\n",
       "    <tr>\n",
       "      <th>0</th>\n",
       "      <td>24665410.0</td>\n",
       "      <td>0.00000</td>\n",
       "      <td>-8.621078e+11</td>\n",
       "      <td>9.266666e+12</td>\n",
       "      <td>0.0</td>\n",
       "      <td>-3020201.0</td>\n",
       "      <td>-3012048.0</td>\n",
       "      <td>0.0</td>\n",
       "      <td>2.447459e+12</td>\n",
       "      <td>-2.630800e+13</td>\n",
       "      <td>0.0</td>\n",
       "      <td>8574323.0</td>\n",
       "      <td>8551177.0</td>\n",
       "      <td>0.0</td>\n",
       "    </tr>\n",
       "    <tr>\n",
       "      <th>1</th>\n",
       "      <td>24665410.0</td>\n",
       "      <td>0.00000</td>\n",
       "      <td>-8.621078e+11</td>\n",
       "      <td>9.266666e+12</td>\n",
       "      <td>0.0</td>\n",
       "      <td>-3020201.0</td>\n",
       "      <td>-3012048.0</td>\n",
       "      <td>0.0</td>\n",
       "      <td>2.447459e+12</td>\n",
       "      <td>-2.630800e+13</td>\n",
       "      <td>0.0</td>\n",
       "      <td>8574323.0</td>\n",
       "      <td>8551177.0</td>\n",
       "      <td>0.0</td>\n",
       "    </tr>\n",
       "    <tr>\n",
       "      <th>2</th>\n",
       "      <td>24665440.0</td>\n",
       "      <td>33.82099</td>\n",
       "      <td>-8.622099e+11</td>\n",
       "      <td>9.266564e+12</td>\n",
       "      <td>0.0</td>\n",
       "      <td>-3020197.0</td>\n",
       "      <td>-3012084.0</td>\n",
       "      <td>0.0</td>\n",
       "      <td>2.447749e+12</td>\n",
       "      <td>-2.630771e+13</td>\n",
       "      <td>0.0</td>\n",
       "      <td>8574314.0</td>\n",
       "      <td>8551279.0</td>\n",
       "      <td>0.0</td>\n",
       "    </tr>\n",
       "    <tr>\n",
       "      <th>3</th>\n",
       "      <td>24665480.0</td>\n",
       "      <td>33.82099</td>\n",
       "      <td>-8.623121e+11</td>\n",
       "      <td>9.266462e+12</td>\n",
       "      <td>0.0</td>\n",
       "      <td>-3020194.0</td>\n",
       "      <td>-3012120.0</td>\n",
       "      <td>0.0</td>\n",
       "      <td>2.448039e+12</td>\n",
       "      <td>-2.630742e+13</td>\n",
       "      <td>0.0</td>\n",
       "      <td>8574304.0</td>\n",
       "      <td>8551382.0</td>\n",
       "      <td>0.0</td>\n",
       "    </tr>\n",
       "    <tr>\n",
       "      <th>4</th>\n",
       "      <td>24665510.0</td>\n",
       "      <td>33.82099</td>\n",
       "      <td>-8.624142e+11</td>\n",
       "      <td>9.266360e+12</td>\n",
       "      <td>0.0</td>\n",
       "      <td>-3020191.0</td>\n",
       "      <td>-3012156.0</td>\n",
       "      <td>0.0</td>\n",
       "      <td>2.448329e+12</td>\n",
       "      <td>-2.630713e+13</td>\n",
       "      <td>0.0</td>\n",
       "      <td>8574295.0</td>\n",
       "      <td>8551484.0</td>\n",
       "      <td>0.0</td>\n",
       "    </tr>\n",
       "  </tbody>\n",
       "</table>\n",
       "</div>"
      ],
      "text/plain": [
       "         time   unknown       star1_x       star1_y  star1_z   star1_vx  \\\n",
       "0  24665410.0   0.00000 -8.621078e+11  9.266666e+12      0.0 -3020201.0   \n",
       "1  24665410.0   0.00000 -8.621078e+11  9.266666e+12      0.0 -3020201.0   \n",
       "2  24665440.0  33.82099 -8.622099e+11  9.266564e+12      0.0 -3020197.0   \n",
       "3  24665480.0  33.82099 -8.623121e+11  9.266462e+12      0.0 -3020194.0   \n",
       "4  24665510.0  33.82099 -8.624142e+11  9.266360e+12      0.0 -3020191.0   \n",
       "\n",
       "    star1_vy  star1_vz       star2_x       star2_y  star2_z   star2_vx  \\\n",
       "0 -3012048.0       0.0  2.447459e+12 -2.630800e+13      0.0  8574323.0   \n",
       "1 -3012048.0       0.0  2.447459e+12 -2.630800e+13      0.0  8574323.0   \n",
       "2 -3012084.0       0.0  2.447749e+12 -2.630771e+13      0.0  8574314.0   \n",
       "3 -3012120.0       0.0  2.448039e+12 -2.630742e+13      0.0  8574304.0   \n",
       "4 -3012156.0       0.0  2.448329e+12 -2.630713e+13      0.0  8574295.0   \n",
       "\n",
       "    star2_vy  star2_vz  \n",
       "0  8551177.0       0.0  \n",
       "1  8551177.0       0.0  \n",
       "2  8551279.0       0.0  \n",
       "3  8551382.0       0.0  \n",
       "4  8551484.0       0.0  "
      ]
     },
     "execution_count": 36,
     "metadata": {},
     "output_type": "execute_result"
    }
   ],
   "source": [
    "headers = ['time', 'unknown','star1_x', 'star1_y', 'star1_z','star1_vx', 'star1_vy', 'star1_vz', 'star2_x', 'star2_y', 'star2_z', 'star2_vx', 'star2_vy', 'star2_vz']\n",
    "df = pd.read_csv(\"/mnt/massive-stars/data/thomas_simulations/wr140-sims/covertex_start/red_z_res/wr140-mhd-l7n256/trajectory.txt\", sep='  ', engine=\"python\", names=headers)\n",
    "df.head()"
   ]
  },
  {
   "cell_type": "code",
   "execution_count": 37,
   "metadata": {},
   "outputs": [],
   "source": [
    "times = [25885600, 26023720, 26162520, 26301490, 26441070, 26580350, 26719270, 26857930, 26996140, 27134730, 27273160, 27410480, 27547960, 27686280,]"
   ]
  },
  {
   "cell_type": "code",
   "execution_count": 39,
   "metadata": {},
   "outputs": [],
   "source": [
    "df2 = df.loc[df['time'].isin(times)]"
   ]
  },
  {
   "cell_type": "code",
   "execution_count": 45,
   "metadata": {},
   "outputs": [],
   "source": [
    "star1_x = df2['star1_x'].tolist()\n",
    "star1_y = df2['star1_y'].tolist()\n",
    "star2_x = df2['star2_x'].tolist()\n",
    "star2_y = df2['star2_y'].tolist()"
   ]
  },
  {
   "cell_type": "code",
   "execution_count": 46,
   "metadata": {},
   "outputs": [
    {
     "data": {
      "text/plain": [
       "<matplotlib.collections.PathCollection at 0x7f838d9aa880>"
      ]
     },
     "execution_count": 46,
     "metadata": {},
     "output_type": "execute_result"
    },
    {
     "data": {
      "image/png": "[encoded data removed]",
      "text/plain": [
       "<Figure size 640x480 with 1 Axes>"
      ]
     },
     "metadata": {},
     "output_type": "display_data"
    }
   ],
   "source": [
    "\n",
    "plt.scatter(star1_x, star1_y, marker=\"*\", color=\"red\", s=10)\n",
    "plt.scatter(star2_x, star2_y, marker=\"*\", color=\"red\", s=10)"
   ]
  },
  {
   "cell_type": "code",
   "execution_count": 33,
   "metadata": {},
   "outputs": [
    {
     "data": {
      "text/html": [
       "<div>\n",
       "<style scoped>\n",
       "    .dataframe tbody tr th:only-of-type {\n",
       "        vertical-align: middle;\n",
       "    }\n",
       "\n",
       "    .dataframe tbody tr th {\n",
       "        vertical-align: top;\n",
       "    }\n",
       "\n",
       "    .dataframe thead th {\n",
       "        text-align: right;\n",
       "    }\n",
       "</style>\n",
       "<table border=\"1\" class=\"dataframe\">\n",
       "  <thead>\n",
       "    <tr style=\"text-align: right;\">\n",
       "      <th></th>\n",
       "      <th>time [s]</th>\n",
       "      <th>unknown</th>\n",
       "      <th>star1_x</th>\n",
       "      <th>star1_y</th>\n",
       "      <th>star1_z</th>\n",
       "      <th>star1_vx</th>\n",
       "      <th>star1_vy</th>\n",
       "      <th>star1_vz</th>\n",
       "      <th>star2_x</th>\n",
       "      <th>star2_y</th>\n",
       "      <th>star2_z</th>\n",
       "      <th>star2_vx</th>\n",
       "      <th>star2_vy</th>\n",
       "      <th>star2_vz</th>\n",
       "    </tr>\n",
       "  </thead>\n",
       "  <tbody>\n",
       "    <tr>\n",
       "      <th>36097</th>\n",
       "      <td>25885600.0</td>\n",
       "      <td>33.65241</td>\n",
       "      <td>-4.245189e+12</td>\n",
       "      <td>4.599598e+12</td>\n",
       "      <td>0.0</td>\n",
       "      <td>-2228122.0</td>\n",
       "      <td>-4790237.0</td>\n",
       "      <td>0.0</td>\n",
       "      <td>1.205200e+13</td>\n",
       "      <td>-1.305823e+13</td>\n",
       "      <td>0.0</td>\n",
       "      <td>6325620.0</td>\n",
       "      <td>13599440.0</td>\n",
       "      <td>0.0</td>\n",
       "    </tr>\n",
       "  </tbody>\n",
       "</table>\n",
       "</div>"
      ],
      "text/plain": [
       "         time [s]   unknown       star1_x       star1_y  star1_z   star1_vx  \\\n",
       "36097  25885600.0  33.65241 -4.245189e+12  4.599598e+12      0.0 -2228122.0   \n",
       "\n",
       "        star1_vy  star1_vz       star2_x       star2_y  star2_z   star2_vx  \\\n",
       "36097 -4790237.0       0.0  1.205200e+13 -1.305823e+13      0.0  6325620.0   \n",
       "\n",
       "         star2_vy  star2_vz  \n",
       "36097  13599440.0       0.0  "
      ]
     },
     "execution_count": 33,
     "metadata": {},
     "output_type": "execute_result"
    }
   ],
   "source": [
    "df.loc[df['time [s]'] == 25885600]"
   ]
  },
  {
   "cell_type": "code",
   "execution_count": null,
   "metadata": {},
   "outputs": [],
   "source": []
  }
 ],
 "metadata": {
  "kernelspec": {
   "display_name": "Python 3.8.10 ('env': venv)",
   "language": "python",
   "name": "python3"
  },
  "language_info": {
   "codemirror_mode": {
    "name": "ipython",
    "version": 3
   },
   "file_extension": ".py",
   "mimetype": "text/x-python",
   "name": "python",
   "nbconvert_exporter": "python",
   "pygments_lexer": "ipython3",
   "version": "3.8.10"
  },
  "orig_nbformat": 4,
  "vscode": {
   "interpreter": {
    "hash": "40a36c5750d9eff67de0d7f17c8d6f4ec29c227bb80165b326fe4f6d1480f8fd"
   }
  }
 },
 "nbformat": 4,
 "nbformat_minor": 2
}
