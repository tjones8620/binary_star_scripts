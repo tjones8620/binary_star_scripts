{
 "cells": [
  {
   "cell_type": "code",
   "execution_count": 23,
   "metadata": {},
   "outputs": [],
   "source": [
    "import numpy as np"
   ]
  },
  {
   "cell_type": "code",
   "execution_count": 24,
   "metadata": {},
   "outputs": [
    {
     "data": {
      "text/plain": [
       "array([    0,     1,     2, ..., 26997, 26998, 26999])"
      ]
     },
     "execution_count": 24,
     "metadata": {},
     "output_type": "execute_result"
    }
   ],
   "source": [
    "time = np.arange(0,27000,1)\n",
    "time\n",
    "\n"
   ]
  },
  {
   "cell_type": "code",
   "execution_count": 25,
   "metadata": {},
   "outputs": [
    {
     "data": {
      "text/plain": [
       "27000"
      ]
     },
     "execution_count": 25,
     "metadata": {},
     "output_type": "execute_result"
    }
   ],
   "source": [
    "flux = np.random.rand(27000)\n",
    "len(flux)"
   ]
  },
  {
   "cell_type": "code",
   "execution_count": 30,
   "metadata": {},
   "outputs": [
    {
     "data": {
      "text/plain": [
       "(2700, 10)"
      ]
     },
     "execution_count": 30,
     "metadata": {},
     "output_type": "execute_result"
    }
   ],
   "source": [
    "time1 = time.reshape(-1, 10)\n",
    "flux1 = flux.reshape(-1, 10)\n",
    "\n",
    "time1.shape"
   ]
  },
  {
   "cell_type": "code",
   "execution_count": 27,
   "metadata": {},
   "outputs": [],
   "source": [
    "time_binned = time1.mean(axis=-1)\n",
    "flux_binned = flux1.mean(axis=-1)"
   ]
  },
  {
   "cell_type": "code",
   "execution_count": 32,
   "metadata": {},
   "outputs": [],
   "source": [
    "def binning_data(time, flux, bin_size):\n",
    "    times = time.reshape(-1, bin_size)\n",
    "    fluxes = flux.reshape(-1, bin_size)\n",
    "\n",
    "    time_binned = times.mean(axis=-1)\n",
    "    flux_binned = fluxes.mean(axis=-1)\n",
    "\n",
    "    return time_binned, flux_binned\n"
   ]
  },
  {
   "cell_type": "code",
   "execution_count": 34,
   "metadata": {},
   "outputs": [
    {
     "data": {
      "text/plain": [
       "(array([4.50004500e-03, 1.45001450e-02, 2.45002450e-02, ...,\n",
       "        9.99754998e+01, 9.99854999e+01, 9.99955000e+01]),\n",
       " array([0.52011609, 0.46921359, 0.5666599 , ..., 0.47079031, 0.7371442 ,\n",
       "        0.46308736]))"
      ]
     },
     "execution_count": 34,
     "metadata": {},
     "output_type": "execute_result"
    }
   ],
   "source": [
    "time, flux = binning_data(np.linspace(0,100, 100000), np.random.rand(100000), 10)\n",
    "time, flux"
   ]
  },
  {
   "cell_type": "code",
   "execution_count": null,
   "metadata": {},
   "outputs": [],
   "source": []
  }
 ],
 "metadata": {
  "kernelspec": {
   "display_name": "Python 3.10.2 ('env')",
   "language": "python",
   "name": "python3"
  },
  "language_info": {
   "codemirror_mode": {
    "name": "ipython",
    "version": 3
   },
   "file_extension": ".py",
   "mimetype": "text/x-python",
   "name": "python",
   "nbconvert_exporter": "python",
   "pygments_lexer": "ipython3",
   "version": "3.10.2"
  },
  "orig_nbformat": 4,
  "vscode": {
   "interpreter": {
    "hash": "651b1a817bfeadf5dd9d12abb1097a82935e5e259cd2227b4ea064e787cccb53"
   }
  }
 },
 "nbformat": 4,
 "nbformat_minor": 2
}
