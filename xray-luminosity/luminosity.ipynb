{
 "cells": [
  {
   "cell_type": "code",
   "execution_count": 1,
   "metadata": {},
   "outputs": [],
   "source": [
    "import pandas as pd\n",
    "import numpy as np\n",
    "import matplotlib.pyplot as plt"
   ]
  },
  {
   "cell_type": "code",
   "execution_count": 27,
   "metadata": {},
   "outputs": [
    {
     "data": {
      "text/html": [
       "<div>\n",
       "<style scoped>\n",
       "    .dataframe tbody tr th:only-of-type {\n",
       "        vertical-align: middle;\n",
       "    }\n",
       "\n",
       "    .dataframe tbody tr th {\n",
       "        vertical-align: top;\n",
       "    }\n",
       "\n",
       "    .dataframe thead th {\n",
       "        text-align: right;\n",
       "    }\n",
       "</style>\n",
       "<table border=\"1\" class=\"dataframe\">\n",
       "  <thead>\n",
       "    <tr style=\"text-align: right;\">\n",
       "      <th></th>\n",
       "      <th>time [s]</th>\n",
       "      <th>L(E&gt;0.1keV)</th>\n",
       "      <th>L(E&gt;0.2keV)</th>\n",
       "      <th>L(E&gt;0.3keV)</th>\n",
       "      <th>L(E&gt;0.5keV)</th>\n",
       "      <th>L(E&gt;1keV)</th>\n",
       "      <th>L(E&gt;2keV)</th>\n",
       "      <th>L(E&gt;5keV)</th>\n",
       "      <th>L(E&gt;10keV)</th>\n",
       "    </tr>\n",
       "  </thead>\n",
       "  <tbody>\n",
       "    <tr>\n",
       "      <th>0</th>\n",
       "      <td>0.000000</td>\n",
       "      <td>0.000000e+00</td>\n",
       "      <td>0.000000e+00</td>\n",
       "      <td>0.000000e+00</td>\n",
       "      <td>0.000000e+00</td>\n",
       "      <td>0.000000e+00</td>\n",
       "      <td>0.000000e+00</td>\n",
       "      <td>0.000000e+00</td>\n",
       "      <td>0.000000e+00</td>\n",
       "    </tr>\n",
       "    <tr>\n",
       "      <th>1</th>\n",
       "      <td>43.751887</td>\n",
       "      <td>2.459287e+29</td>\n",
       "      <td>5.170404e+28</td>\n",
       "      <td>1.474571e+28</td>\n",
       "      <td>2.714581e+27</td>\n",
       "      <td>8.162375e+24</td>\n",
       "      <td>2.137996e+24</td>\n",
       "      <td>8.301101e+23</td>\n",
       "      <td>1.538035e+23</td>\n",
       "    </tr>\n",
       "    <tr>\n",
       "      <th>2</th>\n",
       "      <td>58557.325908</td>\n",
       "      <td>8.651936e+32</td>\n",
       "      <td>2.281432e+32</td>\n",
       "      <td>1.007817e+32</td>\n",
       "      <td>4.549766e+31</td>\n",
       "      <td>1.322403e+30</td>\n",
       "      <td>1.807138e+28</td>\n",
       "      <td>3.317044e+26</td>\n",
       "      <td>8.068704e+25</td>\n",
       "    </tr>\n",
       "    <tr>\n",
       "      <th>3</th>\n",
       "      <td>164966.241092</td>\n",
       "      <td>1.831880e+32</td>\n",
       "      <td>3.164214e+31</td>\n",
       "      <td>1.240700e+31</td>\n",
       "      <td>4.911129e+30</td>\n",
       "      <td>1.535999e+29</td>\n",
       "      <td>1.330971e+28</td>\n",
       "      <td>3.064009e+27</td>\n",
       "      <td>8.426625e+26</td>\n",
       "    </tr>\n",
       "    <tr>\n",
       "      <th>4</th>\n",
       "      <td>267309.553723</td>\n",
       "      <td>1.429654e+32</td>\n",
       "      <td>2.417011e+31</td>\n",
       "      <td>8.863559e+30</td>\n",
       "      <td>3.213965e+30</td>\n",
       "      <td>1.714733e+29</td>\n",
       "      <td>6.318731e+28</td>\n",
       "      <td>3.709674e+28</td>\n",
       "      <td>2.025698e+28</td>\n",
       "    </tr>\n",
       "  </tbody>\n",
       "</table>\n",
       "</div>"
      ],
      "text/plain": [
       "        time [s]   L(E>0.1keV)   L(E>0.2keV)   L(E>0.3keV)   L(E>0.5keV)  \\\n",
       "0       0.000000  0.000000e+00  0.000000e+00  0.000000e+00  0.000000e+00   \n",
       "1      43.751887  2.459287e+29  5.170404e+28  1.474571e+28  2.714581e+27   \n",
       "2   58557.325908  8.651936e+32  2.281432e+32  1.007817e+32  4.549766e+31   \n",
       "3  164966.241092  1.831880e+32  3.164214e+31  1.240700e+31  4.911129e+30   \n",
       "4  267309.553723  1.429654e+32  2.417011e+31  8.863559e+30  3.213965e+30   \n",
       "\n",
       "      L(E>1keV)     L(E>2keV)     L(E>5keV)    L(E>10keV)  \n",
       "0  0.000000e+00  0.000000e+00  0.000000e+00  0.000000e+00  \n",
       "1  8.162375e+24  2.137996e+24  8.301101e+23  1.538035e+23  \n",
       "2  1.322403e+30  1.807138e+28  3.317044e+26  8.068704e+25  \n",
       "3  1.535999e+29  1.330971e+28  3.064009e+27  8.426625e+26  \n",
       "4  1.714733e+29  6.318731e+28  3.709674e+28  2.025698e+28  "
      ]
     },
     "execution_count": 27,
     "metadata": {},
     "output_type": "execute_result"
    }
   ],
   "source": [
    "headers = ['time [s]','L(E>0.1keV)', 'L(E>0.2keV)', 'L(E>0.3keV)', 'L(E>0.5keV)', 'L(E>1keV)', 'L(E>2keV)', 'L(E>5keV)', 'L(E>10keV)']\n",
    "\n",
    "df = pd.read_csv('/home/visitor_ap4/code/project/scripts/xray-luminosity/xray-lum-wr140-hydro-n128.txt', sep=' ', names=headers, index_col=False)\n",
    "df.head()"
   ]
  },
  {
   "cell_type": "code",
   "execution_count": 28,
   "metadata": {},
   "outputs": [
    {
     "data": {
      "text/html": [
       "<div>\n",
       "<style scoped>\n",
       "    .dataframe tbody tr th:only-of-type {\n",
       "        vertical-align: middle;\n",
       "    }\n",
       "\n",
       "    .dataframe tbody tr th {\n",
       "        vertical-align: top;\n",
       "    }\n",
       "\n",
       "    .dataframe thead th {\n",
       "        text-align: right;\n",
       "    }\n",
       "</style>\n",
       "<table border=\"1\" class=\"dataframe\">\n",
       "  <thead>\n",
       "    <tr style=\"text-align: right;\">\n",
       "      <th></th>\n",
       "      <th>time [d]</th>\n",
       "      <th>L(E&gt;0.1keV)</th>\n",
       "      <th>L(E&gt;0.2keV)</th>\n",
       "      <th>L(E&gt;0.3keV)</th>\n",
       "      <th>L(E&gt;0.5keV)</th>\n",
       "      <th>L(E&gt;1keV)</th>\n",
       "      <th>L(E&gt;2keV)</th>\n",
       "      <th>L(E&gt;5keV)</th>\n",
       "      <th>L(E&gt;10keV)</th>\n",
       "      <th>L(2keV &lt; E &lt; 10keV)</th>\n",
       "    </tr>\n",
       "  </thead>\n",
       "  <tbody>\n",
       "    <tr>\n",
       "      <th>0</th>\n",
       "      <td>0.000000</td>\n",
       "      <td>0.000000e+00</td>\n",
       "      <td>0.000000e+00</td>\n",
       "      <td>0.000000e+00</td>\n",
       "      <td>0.000000e+00</td>\n",
       "      <td>0.000000e+00</td>\n",
       "      <td>0.000000e+00</td>\n",
       "      <td>0.000000e+00</td>\n",
       "      <td>0.000000e+00</td>\n",
       "      <td>0.000000e+00</td>\n",
       "    </tr>\n",
       "    <tr>\n",
       "      <th>1</th>\n",
       "      <td>0.000506</td>\n",
       "      <td>2.459287e+29</td>\n",
       "      <td>5.170404e+28</td>\n",
       "      <td>1.474571e+28</td>\n",
       "      <td>2.714581e+27</td>\n",
       "      <td>8.162375e+24</td>\n",
       "      <td>2.137996e+24</td>\n",
       "      <td>8.301101e+23</td>\n",
       "      <td>1.538035e+23</td>\n",
       "      <td>1.984192e+24</td>\n",
       "    </tr>\n",
       "    <tr>\n",
       "      <th>2</th>\n",
       "      <td>0.677747</td>\n",
       "      <td>8.651936e+32</td>\n",
       "      <td>2.281432e+32</td>\n",
       "      <td>1.007817e+32</td>\n",
       "      <td>4.549766e+31</td>\n",
       "      <td>1.322403e+30</td>\n",
       "      <td>1.807138e+28</td>\n",
       "      <td>3.317044e+26</td>\n",
       "      <td>8.068704e+25</td>\n",
       "      <td>1.799069e+28</td>\n",
       "    </tr>\n",
       "    <tr>\n",
       "      <th>3</th>\n",
       "      <td>1.909331</td>\n",
       "      <td>1.831880e+32</td>\n",
       "      <td>3.164214e+31</td>\n",
       "      <td>1.240700e+31</td>\n",
       "      <td>4.911129e+30</td>\n",
       "      <td>1.535999e+29</td>\n",
       "      <td>1.330971e+28</td>\n",
       "      <td>3.064009e+27</td>\n",
       "      <td>8.426625e+26</td>\n",
       "      <td>1.246705e+28</td>\n",
       "    </tr>\n",
       "    <tr>\n",
       "      <th>4</th>\n",
       "      <td>3.093861</td>\n",
       "      <td>1.429654e+32</td>\n",
       "      <td>2.417011e+31</td>\n",
       "      <td>8.863559e+30</td>\n",
       "      <td>3.213965e+30</td>\n",
       "      <td>1.714733e+29</td>\n",
       "      <td>6.318731e+28</td>\n",
       "      <td>3.709674e+28</td>\n",
       "      <td>2.025698e+28</td>\n",
       "      <td>4.293034e+28</td>\n",
       "    </tr>\n",
       "  </tbody>\n",
       "</table>\n",
       "</div>"
      ],
      "text/plain": [
       "   time [d]   L(E>0.1keV)   L(E>0.2keV)   L(E>0.3keV)   L(E>0.5keV)  \\\n",
       "0  0.000000  0.000000e+00  0.000000e+00  0.000000e+00  0.000000e+00   \n",
       "1  0.000506  2.459287e+29  5.170404e+28  1.474571e+28  2.714581e+27   \n",
       "2  0.677747  8.651936e+32  2.281432e+32  1.007817e+32  4.549766e+31   \n",
       "3  1.909331  1.831880e+32  3.164214e+31  1.240700e+31  4.911129e+30   \n",
       "4  3.093861  1.429654e+32  2.417011e+31  8.863559e+30  3.213965e+30   \n",
       "\n",
       "      L(E>1keV)     L(E>2keV)     L(E>5keV)    L(E>10keV)  L(2keV < E < 10keV)  \n",
       "0  0.000000e+00  0.000000e+00  0.000000e+00  0.000000e+00         0.000000e+00  \n",
       "1  8.162375e+24  2.137996e+24  8.301101e+23  1.538035e+23         1.984192e+24  \n",
       "2  1.322403e+30  1.807138e+28  3.317044e+26  8.068704e+25         1.799069e+28  \n",
       "3  1.535999e+29  1.330971e+28  3.064009e+27  8.426625e+26         1.246705e+28  \n",
       "4  1.714733e+29  6.318731e+28  3.709674e+28  2.025698e+28         4.293034e+28  "
      ]
     },
     "execution_count": 28,
     "metadata": {},
     "output_type": "execute_result"
    }
   ],
   "source": [
    "df['L(2keV < E < 10keV)'] = df['L(E>2keV)'] - df['L(E>10keV)']\n",
    "df['time [s]'] = df['time [s]'] / (24*60*60)\n",
    "df.rename(columns={'time [s]': 'time [d]'}, inplace=True)\n",
    "df.head()"
   ]
  },
  {
   "cell_type": "code",
   "execution_count": 29,
   "metadata": {},
   "outputs": [
    {
     "data": {
      "image/png": "[encoded data removed]",
      "text/plain": [
       "<Figure size 500x500 with 1 Axes>"
      ]
     },
     "metadata": {},
     "output_type": "display_data"
    }
   ],
   "source": [
    "fig, ax = plt.subplots(figsize=(5,5))\n",
    "\n",
    "daysec = 24 * 60 * 60 \n",
    "\n",
    "ax.plot(df['time [d]'], df['L(2keV < E < 10keV)'])\n",
    "ax.set_xlabel(\"Days after covertex starting point\")\n",
    "ax.set_ylabel('Unabsorbed Flux ($erg$ $cm^{-2}$$s^{-1}$)')\n",
    "ax.grid()"
   ]
  },
  {
   "cell_type": "markdown",
   "metadata": {},
   "source": []
  },
  {
   "cell_type": "code",
   "execution_count": 4,
   "metadata": {},
   "outputs": [],
   "source": [
    "import matplotlib.pyplot as plt\n",
    "import math\n",
    "import numpy as np\n",
    "\n",
    "from astropy import units as u"
   ]
  },
  {
   "cell_type": "code",
   "execution_count": 5,
   "metadata": {},
   "outputs": [],
   "source": [
    "l01 = []\n",
    "l02 = []\n",
    "l03 = []\n",
    "l05 = []\n",
    "l1 = []\n",
    "l2 = []\n",
    "l5 = []\n",
    "l10 = []\n",
    "sim_time = []\n",
    "\n",
    "# Read a line of numbers out of a text file:\n",
    "with open(\"/home/visitor_ap4/code/project/scripts/xray-luminosity/xray-lum-wr140-hydro-n128.txt\") as x:\n",
    "    for line in x:\n",
    "        data = line.split()\n",
    "        l01.append(float(data[0]))\n",
    "        l02.append(float(data[1]))\n",
    "        l03.append(float(data[2]))\n",
    "        l05.append(float(data[3]))\n",
    "        l1.append(float(data[4]))\n",
    "        l2.append(float(data[5]))\n",
    "        l5.append(float(data[6]))\n",
    "        l10.append(float(data[7]))\n",
    "        sim_time.append(float(data[8]))\n",
    "\n",
    "\n",
    "l01 = np.array(l01)\n",
    "l02 = np.array(l02)\n",
    "l03 = np.array(l03)\n",
    "l05 = np.array(l05)\n",
    "l1 = np.array(l1)\n",
    "l2 = np.array(l2)\n",
    "l5 = np.array(l5)\n",
    "l10 = np.array(l10)\n",
    "sim_time = np.array(sim_time) / 31536000 / 1e6"
   ]
  },
  {
   "cell_type": "code",
   "execution_count": 13,
   "metadata": {},
   "outputs": [
    {
     "data": {
      "text/plain": [
       "[<matplotlib.lines.Line2D at 0x7fe43e866ee0>]"
      ]
     },
     "execution_count": 13,
     "metadata": {},
     "output_type": "execute_result"
    },
    {
     "data": {
      "image/png": "[encoded data removed]",
      "text/plain": [
       "<Figure size 640x480 with 1 Axes>"
      ]
     },
     "metadata": {},
     "output_type": "display_data"
    }
   ],
   "source": [
    "plt.plot(sim_time, l02-l10)"
   ]
  },
  {
   "cell_type": "code",
   "execution_count": null,
   "metadata": {},
   "outputs": [],
   "source": []
  }
 ],
 "metadata": {
  "kernelspec": {
   "display_name": "Python 3.8.10 ('env')",
   "language": "python",
   "name": "python3"
  },
  "language_info": {
   "codemirror_mode": {
    "name": "ipython",
    "version": 3
   },
   "file_extension": ".py",
   "mimetype": "text/x-python",
   "name": "python",
   "nbconvert_exporter": "python",
   "pygments_lexer": "ipython3",
   "version": "3.8.10"
  },
  "orig_nbformat": 4,
  "vscode": {
   "interpreter": {
    "hash": "40a36c5750d9eff67de0d7f17c8d6f4ec29c227bb80165b326fe4f6d1480f8fd"
   }
  }
 },
 "nbformat": 4,
 "nbformat_minor": 2
}
