{
 "cells": [
  {
   "cell_type": "code",
   "execution_count": 74,
   "metadata": {},
   "outputs": [],
   "source": [
    "import sympy as smp"
   ]
  },
  {
   "cell_type": "code",
   "execution_count": 75,
   "metadata": {},
   "outputs": [],
   "source": [
    "v_x, v_y, v_z, v = smp.symbols('v_x v_y v_z v')\n",
    "omega_w, i_w = smp.symbols('omega_w i_w')"
   ]
  },
  {
   "cell_type": "code",
   "execution_count": 76,
   "metadata": {},
   "outputs": [],
   "source": [
    "# Rotation matrix around the z-axis by the omega_wind angle\n",
    "R_z = smp.Matrix([[smp.cos(omega_w), -smp.sin(omega_w), 0],\n",
    "                    [smp.sin(omega_w), smp.cos(omega_w), 0],\n",
    "                    [0, 0, 1]])\n",
    "\n",
    "# Rotation matrix around the y-axis by the wind inclination angle\n",
    "R_y = smp.Matrix([[smp.cos(i_w), 0, smp.sin(i_w)],\n",
    "                    [0, 1, 0],\n",
    "                    [-smp.sin(i_w), 0, smp.cos(i_w)]])\n"
   ]
  },
  {
   "cell_type": "code",
   "execution_count": 77,
   "metadata": {},
   "outputs": [
    {
     "data": {
      "text/latex": [
       "$\\displaystyle \\left[\\begin{matrix}\\cos{\\left(i_{w} \\right)} \\cos{\\left(\\omega_{w} \\right)} & - \\sin{\\left(\\omega_{w} \\right)} & \\sin{\\left(i_{w} \\right)} \\cos{\\left(\\omega_{w} \\right)}\\\\\\sin{\\left(\\omega_{w} \\right)} \\cos{\\left(i_{w} \\right)} & \\cos{\\left(\\omega_{w} \\right)} & \\sin{\\left(i_{w} \\right)} \\sin{\\left(\\omega_{w} \\right)}\\\\- \\sin{\\left(i_{w} \\right)} & 0 & \\cos{\\left(i_{w} \\right)}\\end{matrix}\\right]$"
      ],
      "text/plain": [
       "Matrix([\n",
       "[cos(i_w)*cos(omega_w), -sin(omega_w), sin(i_w)*cos(omega_w)],\n",
       "[sin(omega_w)*cos(i_w),  cos(omega_w), sin(i_w)*sin(omega_w)],\n",
       "[            -sin(i_w),             0,              cos(i_w)]])"
      ]
     },
     "execution_count": 77,
     "metadata": {},
     "output_type": "execute_result"
    }
   ],
   "source": [
    "# Rotation matri around y and then z\n",
    "R_yz = R_z * R_y\n",
    "R_yz"
   ]
  },
  {
   "cell_type": "code",
   "execution_count": 78,
   "metadata": {},
   "outputs": [],
   "source": [
    "# Initial velocity vector (v_z=0 as in XY plane)\n",
    "v = smp.Matrix([v_x, v_y, 0]) "
   ]
  },
  {
   "cell_type": "code",
   "execution_count": 79,
   "metadata": {},
   "outputs": [
    {
     "data": {
      "text/latex": [
       "$\\displaystyle \\left[\\begin{matrix}v_{x} \\cos{\\left(i_{w} \\right)} \\cos{\\left(\\omega_{w} \\right)} - v_{y} \\sin{\\left(\\omega_{w} \\right)}\\\\v_{x} \\sin{\\left(\\omega_{w} \\right)} \\cos{\\left(i_{w} \\right)} + v_{y} \\cos{\\left(\\omega_{w} \\right)}\\\\- v_{x} \\sin{\\left(i_{w} \\right)}\\end{matrix}\\right]$"
      ],
      "text/plain": [
       "Matrix([\n",
       "[v_x*cos(i_w)*cos(omega_w) - v_y*sin(omega_w)],\n",
       "[v_x*sin(omega_w)*cos(i_w) + v_y*cos(omega_w)],\n",
       "[                               -v_x*sin(i_w)]])"
      ]
     },
     "execution_count": 79,
     "metadata": {},
     "output_type": "execute_result"
    }
   ],
   "source": [
    "# Rotated vector \n",
    "v_rot = R_yz * v\n",
    "v_rot"
   ]
  },
  {
   "cell_type": "code",
   "execution_count": 80,
   "metadata": {},
   "outputs": [],
   "source": [
    "# Angles to rotate by (in radians)\n",
    "omega = -23 * smp.pi / 180\n",
    "i = 22 * smp.pi / 180"
   ]
  },
  {
   "cell_type": "code",
   "execution_count": 81,
   "metadata": {},
   "outputs": [
    {
     "data": {
      "text/latex": [
       "$\\displaystyle \\left[\\begin{matrix}v_{x} \\cos{\\left(\\frac{11 \\pi}{90} \\right)} \\cos{\\left(\\frac{23 \\pi}{180} \\right)} + v_{y} \\sin{\\left(\\frac{23 \\pi}{180} \\right)}\\\\- v_{x} \\sin{\\left(\\frac{23 \\pi}{180} \\right)} \\cos{\\left(\\frac{11 \\pi}{90} \\right)} + v_{y} \\cos{\\left(\\frac{23 \\pi}{180} \\right)}\\\\- v_{x} \\sin{\\left(\\frac{11 \\pi}{90} \\right)}\\end{matrix}\\right]$"
      ],
      "text/plain": [
       "Matrix([\n",
       "[ v_x*cos(11*pi/90)*cos(23*pi/180) + v_y*sin(23*pi/180)],\n",
       "[-v_x*sin(23*pi/180)*cos(11*pi/90) + v_y*cos(23*pi/180)],\n",
       "[                                    -v_x*sin(11*pi/90)]])"
      ]
     },
     "execution_count": 81,
     "metadata": {},
     "output_type": "execute_result"
    }
   ],
   "source": [
    "v_rot = v_rot.subs({omega_w: omega, i_w: i})\n",
    "v_rot"
   ]
  },
  {
   "cell_type": "code",
   "execution_count": 82,
   "metadata": {},
   "outputs": [],
   "source": [
    "# Velocity vector for WN star and WC star at orbital phase of 0.7\n",
    "v_WN = {v_x: 637953, v_y: -161465, v_z: 0}\n",
    "s_WN = {v_x: -5.42142e14, v_y: -3.52909e14, v_z: 0}\n",
    "\n",
    "v_WC = {v_x: -850604, v_y: 215287, v_z: 0}\n",
    "s_WC = {v_x: 7.22856e14, v_y: 4.70545e14, v_z: 0}"
   ]
  },
  {
   "cell_type": "code",
   "execution_count": 83,
   "metadata": {},
   "outputs": [],
   "source": [
    "# WC Star \n",
    "v_rotated1 = v_rot.subs(v_WC)\n",
    "s_rotated1 = v_rot.subs(s_WC)\n",
    "\n",
    "# WN Star\n",
    "v_rotated2 = v_rot.subs(v_WN)\n",
    "s_rotated2 = v_rot.subs(s_WN)"
   ]
  },
  {
   "cell_type": "code",
   "execution_count": 84,
   "metadata": {},
   "outputs": [
    {
     "data": {
      "text/latex": [
       "$\\displaystyle \\left[\\begin{matrix}-641852.0\\\\506329.0\\\\318642.0\\end{matrix}\\right]$"
      ],
      "text/plain": [
       "Matrix([\n",
       "[-641852.0],\n",
       "[ 506329.0],\n",
       "[ 318642.0]])"
      ]
     },
     "execution_count": 84,
     "metadata": {},
     "output_type": "execute_result"
    }
   ],
   "source": [
    "# WC star velocities\n",
    "smp.N(v_rotated1, 6)"
   ]
  },
  {
   "cell_type": "code",
   "execution_count": 85,
   "metadata": {},
   "outputs": [
    {
     "data": {
      "text/latex": [
       "$\\displaystyle \\left[\\begin{matrix}8.00798 \\cdot 10^{14}\\\\1.71263 \\cdot 10^{14}\\\\-2.70787 \\cdot 10^{14}\\end{matrix}\\right]$"
      ],
      "text/plain": [
       "Matrix([\n",
       "[ 8.00798e+14],\n",
       "[ 1.71263e+14],\n",
       "[-2.70787e+14]])"
      ]
     },
     "execution_count": 85,
     "metadata": {},
     "output_type": "execute_result"
    }
   ],
   "source": [
    "# WC Star positions\n",
    "smp.N(s_rotated1, 6)"
   ]
  },
  {
   "cell_type": "code",
   "execution_count": 86,
   "metadata": {},
   "outputs": [
    {
     "data": {
      "text/latex": [
       "$\\displaystyle \\left[\\begin{matrix}481389.0\\\\-379747.0\\\\-238981.0\\end{matrix}\\right]$"
      ],
      "text/plain": [
       "Matrix([\n",
       "[ 481389.0],\n",
       "[-379747.0],\n",
       "[-238981.0]])"
      ]
     },
     "execution_count": 86,
     "metadata": {},
     "output_type": "execute_result"
    }
   ],
   "source": [
    "# WN star velocities\n",
    "smp.N(v_rotated2, 6)"
   ]
  },
  {
   "cell_type": "code",
   "execution_count": 87,
   "metadata": {},
   "outputs": [
    {
     "data": {
      "text/latex": [
       "$\\displaystyle \\left[\\begin{matrix}-6.00598 \\cdot 10^{14}\\\\-1.28447 \\cdot 10^{14}\\\\2.0309 \\cdot 10^{14}\\end{matrix}\\right]$"
      ],
      "text/plain": [
       "Matrix([\n",
       "[-6.00598e+14],\n",
       "[-1.28447e+14],\n",
       "[  2.0309e+14]])"
      ]
     },
     "execution_count": 87,
     "metadata": {},
     "output_type": "execute_result"
    }
   ],
   "source": [
    "# WN Star positions\n",
    "smp.N(s_rotated2, 6)"
   ]
  }
 ],
 "metadata": {
  "kernelspec": {
   "display_name": ".env",
   "language": "python",
   "name": "python3"
  },
  "language_info": {
   "codemirror_mode": {
    "name": "ipython",
    "version": 3
   },
   "file_extension": ".py",
   "mimetype": "text/x-python",
   "name": "python",
   "nbconvert_exporter": "python",
   "pygments_lexer": "ipython3",
   "version": "3.10.2"
  },
  "orig_nbformat": 4
 },
 "nbformat": 4,
 "nbformat_minor": 2
}
