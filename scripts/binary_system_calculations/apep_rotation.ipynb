{
 "cells": [
  {
   "cell_type": "code",
   "execution_count": 1,
   "metadata": {},
   "outputs": [],
   "source": [
    "import sympy as smp"
   ]
  },
  {
   "cell_type": "code",
   "execution_count": 37,
   "metadata": {},
   "outputs": [],
   "source": [
    "v_x, v_y, v_z, v = smp.symbols('v_x v_y v_z v')\n",
    "omega_w, i_w = smp.symbols('omega_w i_w')"
   ]
  },
  {
   "cell_type": "code",
   "execution_count": 62,
   "metadata": {},
   "outputs": [],
   "source": [
    "# Rotation matrix around the z-axis by the omega_wind angle\n",
    "R_z = smp.Matrix([[smp.cos(omega_w), -smp.sin(omega_w), 0],\n",
    "                    [smp.sin(omega_w), smp.cos(omega_w), 0],\n",
    "                    [0, 0, 1]])\n",
    "\n",
    "# # Rotation matrix around the y-axis by the wind inclination angle\n",
    "# R_y = smp.Matrix([[smp.cos(i_w), 0, smp.sin(i_w)],\n",
    "#                     [0, 1, 0],\n",
    "#                     [-smp.sin(i_w), 0, smp.cos(i_w)]])\n"
   ]
  },
  {
   "cell_type": "code",
   "execution_count": 63,
   "metadata": {},
   "outputs": [],
   "source": [
    "# Initial velocity vector (v_z=0 as in XY plane)\n",
    "v = smp.Matrix([v_x, v_y, 0]) "
   ]
  },
  {
   "cell_type": "code",
   "execution_count": 64,
   "metadata": {},
   "outputs": [
    {
     "data": {
      "text/latex": [
       "$\\displaystyle \\left[\\begin{matrix}v_{x} \\cos{\\left(\\omega_{w} \\right)} - v_{y} \\sin{\\left(\\omega_{w} \\right)}\\\\v_{x} \\sin{\\left(\\omega_{w} \\right)} + v_{y} \\cos{\\left(\\omega_{w} \\right)}\\\\0\\end{matrix}\\right]$"
      ],
      "text/plain": [
       "Matrix([\n",
       "[v_x*cos(omega_w) - v_y*sin(omega_w)],\n",
       "[v_x*sin(omega_w) + v_y*cos(omega_w)],\n",
       "[                                  0]])"
      ]
     },
     "execution_count": 64,
     "metadata": {},
     "output_type": "execute_result"
    }
   ],
   "source": [
    "# Rotating vector around z-axis by omega_wind\n",
    "v_p = R_z * v\n",
    "v_p"
   ]
  },
  {
   "cell_type": "code",
   "execution_count": 65,
   "metadata": {},
   "outputs": [],
   "source": [
    "# Angles to rotate by (in radians)\n",
    "omega = -23 * smp.pi / 180\n",
    "i = 22 * smp.pi / 180\n",
    "\n",
    "# Velocity vector for WN star and WC star at orbital phase of 0.7\n",
    "v_WN = {v_x: 635666, v_y: -162950, v_z: 0}\n",
    "s_WN = {v_x: -5.44133e+14, v_y: -3.52402e+14, v_z: 0}\n",
    "\n",
    "v_WC = {v_x: -847554, v_y: 217267, v_z: 0}\n",
    "s_WC = {v_x: 7.25511e+14, v_y: 4.69869e+14, v_z: 0}"
   ]
  },
  {
   "cell_type": "code",
   "execution_count": 53,
   "metadata": {},
   "outputs": [
    {
     "data": {
      "text/latex": [
       "$\\displaystyle \\left[\\begin{matrix}\\sin{\\left(\\frac{23 \\pi}{180} \\right)}\\\\\\cos{\\left(\\frac{23 \\pi}{180} \\right)}\\\\0\\end{matrix}\\right]$"
      ],
      "text/plain": [
       "Matrix([\n",
       "[sin(23*pi/180)],\n",
       "[cos(23*pi/180)],\n",
       "[             0]])"
      ]
     },
     "execution_count": 53,
     "metadata": {},
     "output_type": "execute_result"
    }
   ],
   "source": [
    "# Rotating j vector around z-axis by omega_wind\n",
    "j = smp.Matrix([0, 1, 0])\n",
    "j_p = R_z * j\n",
    "j_p = j_p.subs(omega_w, omega)\n",
    "j_p"
   ]
  },
  {
   "cell_type": "code",
   "execution_count": 54,
   "metadata": {},
   "outputs": [
    {
     "data": {
      "text/latex": [
       "$\\displaystyle \\left[\\begin{matrix}\\left(1 - \\cos{\\left(i_{w} \\right)}\\right) \\left(- u_{y}^{2} - u_{z}^{2}\\right) + 1 & u_{x} u_{y} \\left(1 - \\cos{\\left(i_{w} \\right)}\\right) - u_{z} \\sin{\\left(i_{w} \\right)} & u_{x} u_{z} \\left(1 - \\cos{\\left(i_{w} \\right)}\\right) + u_{y} \\sin{\\left(i_{w} \\right)}\\\\u_{x} u_{y} \\left(1 - \\cos{\\left(i_{w} \\right)}\\right) + u_{z} \\sin{\\left(i_{w} \\right)} & \\left(1 - \\cos{\\left(i_{w} \\right)}\\right) \\left(- u_{x}^{2} - u_{z}^{2}\\right) + 1 & - u_{x} \\sin{\\left(i_{w} \\right)} + u_{y} u_{z} \\left(1 - \\cos{\\left(i_{w} \\right)}\\right)\\\\u_{x} u_{z} \\left(1 - \\cos{\\left(i_{w} \\right)}\\right) - u_{y} \\sin{\\left(i_{w} \\right)} & u_{x} \\sin{\\left(i_{w} \\right)} + u_{y} u_{z} \\left(1 - \\cos{\\left(i_{w} \\right)}\\right) & \\left(1 - \\cos{\\left(i_{w} \\right)}\\right) \\left(- u_{x}^{2} - u_{y}^{2}\\right) + 1\\end{matrix}\\right]$"
      ],
      "text/plain": [
       "Matrix([\n",
       "[(1 - cos(i_w))*(-u_y**2 - u_z**2) + 1, u_x*u_y*(1 - cos(i_w)) - u_z*sin(i_w),  u_x*u_z*(1 - cos(i_w)) + u_y*sin(i_w)],\n",
       "[u_x*u_y*(1 - cos(i_w)) + u_z*sin(i_w), (1 - cos(i_w))*(-u_x**2 - u_z**2) + 1, -u_x*sin(i_w) + u_y*u_z*(1 - cos(i_w))],\n",
       "[u_x*u_z*(1 - cos(i_w)) - u_y*sin(i_w), u_x*sin(i_w) + u_y*u_z*(1 - cos(i_w)),  (1 - cos(i_w))*(-u_x**2 - u_y**2) + 1]])"
      ]
     },
     "execution_count": 54,
     "metadata": {},
     "output_type": "execute_result"
    }
   ],
   "source": [
    "u_x, u_y, u_z = smp.symbols('u_x u_y u_z')\n",
    "u = smp.Matrix([u_x, u_y, u_z])\n",
    "\n",
    "# Rodrigues' rotation formula for rotation around an arbitrary axis\n",
    "W = smp.Matrix([[0, -u_z, u_y],\n",
    "                [u_z, 0, -u_x],\n",
    "                [-u_y, u_x, 0]])\n",
    "R_u = smp.eye(3) + smp.sin(i_w) * W + (1 - smp.cos(i_w)) * W**2\n",
    "R_u"
   ]
  },
  {
   "cell_type": "code",
   "execution_count": 66,
   "metadata": {},
   "outputs": [
    {
     "data": {
      "text/latex": [
       "$\\displaystyle \\left[\\begin{matrix}\\left(v_{x} \\sin{\\left(\\omega_{w} \\right)} + v_{y} \\cos{\\left(\\omega_{w} \\right)}\\right) \\left(u_{x} u_{y} \\left(1 - \\cos{\\left(i_{w} \\right)}\\right) - u_{z} \\sin{\\left(i_{w} \\right)}\\right) + \\left(v_{x} \\cos{\\left(\\omega_{w} \\right)} - v_{y} \\sin{\\left(\\omega_{w} \\right)}\\right) \\left(\\left(1 - \\cos{\\left(i_{w} \\right)}\\right) \\left(- u_{y}^{2} - u_{z}^{2}\\right) + 1\\right)\\\\\\left(v_{x} \\sin{\\left(\\omega_{w} \\right)} + v_{y} \\cos{\\left(\\omega_{w} \\right)}\\right) \\left(\\left(1 - \\cos{\\left(i_{w} \\right)}\\right) \\left(- u_{x}^{2} - u_{z}^{2}\\right) + 1\\right) + \\left(v_{x} \\cos{\\left(\\omega_{w} \\right)} - v_{y} \\sin{\\left(\\omega_{w} \\right)}\\right) \\left(u_{x} u_{y} \\left(1 - \\cos{\\left(i_{w} \\right)}\\right) + u_{z} \\sin{\\left(i_{w} \\right)}\\right)\\\\\\left(u_{x} \\sin{\\left(i_{w} \\right)} + u_{y} u_{z} \\left(1 - \\cos{\\left(i_{w} \\right)}\\right)\\right) \\left(v_{x} \\sin{\\left(\\omega_{w} \\right)} + v_{y} \\cos{\\left(\\omega_{w} \\right)}\\right) + \\left(v_{x} \\cos{\\left(\\omega_{w} \\right)} - v_{y} \\sin{\\left(\\omega_{w} \\right)}\\right) \\left(u_{x} u_{z} \\left(1 - \\cos{\\left(i_{w} \\right)}\\right) - u_{y} \\sin{\\left(i_{w} \\right)}\\right)\\end{matrix}\\right]$"
      ],
      "text/plain": [
       "Matrix([\n",
       "[(v_x*sin(omega_w) + v_y*cos(omega_w))*(u_x*u_y*(1 - cos(i_w)) - u_z*sin(i_w)) + (v_x*cos(omega_w) - v_y*sin(omega_w))*((1 - cos(i_w))*(-u_y**2 - u_z**2) + 1)],\n",
       "[(v_x*sin(omega_w) + v_y*cos(omega_w))*((1 - cos(i_w))*(-u_x**2 - u_z**2) + 1) + (v_x*cos(omega_w) - v_y*sin(omega_w))*(u_x*u_y*(1 - cos(i_w)) + u_z*sin(i_w))],\n",
       "[(u_x*sin(i_w) + u_y*u_z*(1 - cos(i_w)))*(v_x*sin(omega_w) + v_y*cos(omega_w)) + (v_x*cos(omega_w) - v_y*sin(omega_w))*(u_x*u_z*(1 - cos(i_w)) - u_y*sin(i_w))]])"
      ]
     },
     "execution_count": 66,
     "metadata": {},
     "output_type": "execute_result"
    }
   ],
   "source": [
    "# Rotate v_prime around the axis j_prime by the inclination angle\n",
    "v_pp = R_u * v_p\n",
    "v_pp"
   ]
  },
  {
   "cell_type": "code",
   "execution_count": 68,
   "metadata": {},
   "outputs": [
    {
     "data": {
      "text/latex": [
       "$\\displaystyle \\left[\\begin{matrix}\\left(1 - \\cos{\\left(\\frac{11 \\pi}{90} \\right)}\\right) \\left(- v_{x} \\sin{\\left(\\frac{23 \\pi}{180} \\right)} + v_{y} \\cos{\\left(\\frac{23 \\pi}{180} \\right)}\\right) \\sin{\\left(\\frac{23 \\pi}{180} \\right)} \\cos{\\left(\\frac{23 \\pi}{180} \\right)} + \\left(v_{x} \\cos{\\left(\\frac{23 \\pi}{180} \\right)} + v_{y} \\sin{\\left(\\frac{23 \\pi}{180} \\right)}\\right) \\left(- \\left(1 - \\cos{\\left(\\frac{11 \\pi}{90} \\right)}\\right) \\cos^{2}{\\left(\\frac{23 \\pi}{180} \\right)} + 1\\right)\\\\\\left(- v_{x} \\sin{\\left(\\frac{23 \\pi}{180} \\right)} + v_{y} \\cos{\\left(\\frac{23 \\pi}{180} \\right)}\\right) \\left(- \\left(1 - \\cos{\\left(\\frac{11 \\pi}{90} \\right)}\\right) \\sin^{2}{\\left(\\frac{23 \\pi}{180} \\right)} + 1\\right) + \\left(1 - \\cos{\\left(\\frac{11 \\pi}{90} \\right)}\\right) \\left(v_{x} \\cos{\\left(\\frac{23 \\pi}{180} \\right)} + v_{y} \\sin{\\left(\\frac{23 \\pi}{180} \\right)}\\right) \\sin{\\left(\\frac{23 \\pi}{180} \\right)} \\cos{\\left(\\frac{23 \\pi}{180} \\right)}\\\\\\left(- v_{x} \\sin{\\left(\\frac{23 \\pi}{180} \\right)} + v_{y} \\cos{\\left(\\frac{23 \\pi}{180} \\right)}\\right) \\sin{\\left(\\frac{11 \\pi}{90} \\right)} \\sin{\\left(\\frac{23 \\pi}{180} \\right)} - \\left(v_{x} \\cos{\\left(\\frac{23 \\pi}{180} \\right)} + v_{y} \\sin{\\left(\\frac{23 \\pi}{180} \\right)}\\right) \\sin{\\left(\\frac{11 \\pi}{90} \\right)} \\cos{\\left(\\frac{23 \\pi}{180} \\right)}\\end{matrix}\\right]$"
      ],
      "text/plain": [
       "Matrix([\n",
       "[(1 - cos(11*pi/90))*(-v_x*sin(23*pi/180) + v_y*cos(23*pi/180))*sin(23*pi/180)*cos(23*pi/180) + (v_x*cos(23*pi/180) + v_y*sin(23*pi/180))*(-(1 - cos(11*pi/90))*cos(23*pi/180)**2 + 1)],\n",
       "[(-v_x*sin(23*pi/180) + v_y*cos(23*pi/180))*(-(1 - cos(11*pi/90))*sin(23*pi/180)**2 + 1) + (1 - cos(11*pi/90))*(v_x*cos(23*pi/180) + v_y*sin(23*pi/180))*sin(23*pi/180)*cos(23*pi/180)],\n",
       "[                                     (-v_x*sin(23*pi/180) + v_y*cos(23*pi/180))*sin(11*pi/90)*sin(23*pi/180) - (v_x*cos(23*pi/180) + v_y*sin(23*pi/180))*sin(11*pi/90)*cos(23*pi/180)]])"
      ]
     },
     "execution_count": 68,
     "metadata": {},
     "output_type": "execute_result"
    }
   ],
   "source": [
    "# Subbing in values\n",
    "v_pp = v_pp.subs({omega_w: omega, i_w: i, u_x: j_p[0], u_y: j_p[1], u_z: j_p[2]})\n",
    "v_pp"
   ]
  },
  {
   "cell_type": "code",
   "execution_count": 69,
   "metadata": {},
   "outputs": [],
   "source": [
    "# Subbing in values for the velocities, positions of the stars\n",
    "# WC Star \n",
    "v_rotated1 = v_pp.subs(v_WC)\n",
    "s_rotated1 = v_pp.subs(s_WC)\n",
    "\n",
    "# WN Star\n",
    "v_rotated2 = v_pp.subs(v_WN)\n",
    "s_rotated2 = v_pp.subs(s_WN)"
   ]
  },
  {
   "cell_type": "code",
   "execution_count": 70,
   "metadata": {},
   "outputs": [
    {
     "data": {
      "text/latex": [
       "$\\displaystyle \\left[\\begin{matrix}-638475.1\\\\507046.8\\\\317499.3\\end{matrix}\\right]$"
      ],
      "text/plain": [
       "Matrix([\n",
       "[-638475.1],\n",
       "[ 507046.8],\n",
       "[ 317499.3]])"
      ]
     },
     "execution_count": 70,
     "metadata": {},
     "output_type": "execute_result"
    }
   ],
   "source": [
    "# WC star velocities\n",
    "smp.N(v_rotated1, 7)"
   ]
  },
  {
   "cell_type": "code",
   "execution_count": 71,
   "metadata": {},
   "outputs": [
    {
     "data": {
      "text/latex": [
       "$\\displaystyle \\left[\\begin{matrix}8.027996 \\cdot 10^{14}\\\\1.696789 \\cdot 10^{14}\\\\-2.717812 \\cdot 10^{14}\\end{matrix}\\right]$"
      ],
      "text/plain": [
       "Matrix([\n",
       "[ 8.027996e+14],\n",
       "[ 1.696789e+14],\n",
       "[-2.717812e+14]])"
      ]
     },
     "execution_count": 71,
     "metadata": {},
     "output_type": "execute_result"
    }
   ],
   "source": [
    "# WC Star positions\n",
    "smp.N(s_rotated1, 7)"
   ]
  },
  {
   "cell_type": "code",
   "execution_count": 72,
   "metadata": {},
   "outputs": [
    {
     "data": {
      "text/latex": [
       "$\\displaystyle \\left[\\begin{matrix}478856.8\\\\-380285.1\\\\-238124.7\\end{matrix}\\right]$"
      ],
      "text/plain": [
       "Matrix([\n",
       "[ 478856.8],\n",
       "[-380285.1],\n",
       "[-238124.7]])"
      ]
     },
     "execution_count": 72,
     "metadata": {},
     "output_type": "execute_result"
    }
   ],
   "source": [
    "# WN star velocities\n",
    "smp.N(v_rotated2, 7)"
   ]
  },
  {
   "cell_type": "code",
   "execution_count": 73,
   "metadata": {},
   "outputs": [
    {
     "data": {
      "text/latex": [
       "$\\displaystyle \\left[\\begin{matrix}-6.020996 \\cdot 10^{14}\\\\-1.272595 \\cdot 10^{14}\\\\2.038358 \\cdot 10^{14}\\end{matrix}\\right]$"
      ],
      "text/plain": [
       "Matrix([\n",
       "[-6.020996e+14],\n",
       "[-1.272595e+14],\n",
       "[ 2.038358e+14]])"
      ]
     },
     "execution_count": 73,
     "metadata": {},
     "output_type": "execute_result"
    }
   ],
   "source": [
    "# WN Star positions\n",
    "smp.N(s_rotated2, 7)"
   ]
  },
  {
   "cell_type": "code",
   "execution_count": null,
   "metadata": {},
   "outputs": [],
   "source": []
  }
 ],
 "metadata": {
  "kernelspec": {
   "display_name": ".env",
   "language": "python",
   "name": "python3"
  },
  "language_info": {
   "codemirror_mode": {
    "name": "ipython",
    "version": 3
   },
   "file_extension": ".py",
   "mimetype": "text/x-python",
   "name": "python",
   "nbconvert_exporter": "python",
   "pygments_lexer": "ipython3",
   "version": "3.8.10"
  },
  "orig_nbformat": 4
 },
 "nbformat": 4,
 "nbformat_minor": 2
}
