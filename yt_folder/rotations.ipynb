{
 "cells": [
  {
   "cell_type": "code",
   "execution_count": 1,
   "metadata": {},
   "outputs": [],
   "source": [
    "import sympy as smp"
   ]
  },
  {
   "cell_type": "markdown",
   "metadata": {},
   "source": [
    "# Vector Rotations\n",
    "\n",
    "The rotations necessary are to account for the argument of periastron, longitude of ascending node and the inclination which are $\\omega$, $\\Omega$ and $i$ respectively. The steps (seem to be) as follows:\n",
    "\n",
    "1. Set up the defining vectors in the system, starting with $\\omega=\\Omega=i=0$, which corresponds to a north pointing vector in the simulation setup of (1,0,0) and a normal vector of (0,0,1). \n",
    "2. Rotate the system in the orbital plane about the normal vector, by making a rotation of the north vector about the z-axis by $\\omega$.\n",
    "3. Make a rotation of the longitude of ascending node, which is set to initially point in the direction (1,0,0), rotating this around the z-axis by $\\Omega$.\n",
    "4. Rotate the rotated north vector about the rotated vector in the direction of the longitude of ascending node by $i$."
   ]
  },
  {
   "cell_type": "markdown",
   "metadata": {},
   "source": [
    "### Step 2"
   ]
  },
  {
   "cell_type": "code",
   "execution_count": 2,
   "metadata": {},
   "outputs": [
    {
     "data": {
      "text/latex": [
       "$\\displaystyle \\left[\\begin{matrix}a_{x}\\\\a_{y}\\\\a_{z}\\end{matrix}\\right]$"
      ],
      "text/plain": [
       "Matrix([\n",
       "[a_x],\n",
       "[a_y],\n",
       "[a_z]])"
      ]
     },
     "execution_count": 2,
     "metadata": {},
     "output_type": "execute_result"
    }
   ],
   "source": [
    "omega, Omega, ax, ay, az = smp.symbols('omega Omega a_x a_y a_z')\n",
    "north_vector = smp.Matrix([ax, ay, az])\n",
    "north_vector"
   ]
  },
  {
   "cell_type": "code",
   "execution_count": 3,
   "metadata": {},
   "outputs": [
    {
     "data": {
      "text/latex": [
       "$\\displaystyle \\left[\\begin{matrix}a_{x} \\cos{\\left(\\omega \\right)} - a_{y} \\sin{\\left(\\omega \\right)}\\\\a_{x} \\sin{\\left(\\omega \\right)} + a_{y} \\cos{\\left(\\omega \\right)}\\\\a_{z}\\end{matrix}\\right]$"
      ],
      "text/plain": [
       "Matrix([\n",
       "[a_x*cos(omega) - a_y*sin(omega)],\n",
       "[a_x*sin(omega) + a_y*cos(omega)],\n",
       "[                            a_z]])"
      ]
     },
     "execution_count": 3,
     "metadata": {},
     "output_type": "execute_result"
    }
   ],
   "source": [
    "R_z = smp.Matrix([[smp.cos(omega), -smp.sin(omega), 0], [smp.sin(omega), smp.cos(omega), 0], [0, 0, 1]])\n",
    "new_north_vector = R_z*north_vector\n",
    "new_north_vector"
   ]
  },
  {
   "cell_type": "code",
   "execution_count": 4,
   "metadata": {},
   "outputs": [
    {
     "data": {
      "text/latex": [
       "$\\displaystyle \\left[\\begin{matrix}a_{x} \\cos{\\left(\\Omega \\right)} - a_{y} \\sin{\\left(\\Omega \\right)}\\\\a_{x} \\sin{\\left(\\Omega \\right)} + a_{y} \\cos{\\left(\\Omega \\right)}\\\\a_{z}\\end{matrix}\\right]$"
      ],
      "text/plain": [
       "Matrix([\n",
       "[a_x*cos(Omega) - a_y*sin(Omega)],\n",
       "[a_x*sin(Omega) + a_y*cos(Omega)],\n",
       "[                            a_z]])"
      ]
     },
     "execution_count": 4,
     "metadata": {},
     "output_type": "execute_result"
    }
   ],
   "source": [
    "long_asc_node = R_z.subs(omega, Omega) * north_vector\n",
    "long_asc_node"
   ]
  },
  {
   "cell_type": "code",
   "execution_count": 5,
   "metadata": {},
   "outputs": [],
   "source": [
    "ux, uy, uz, vx, vy, vz = smp.symbols('u_x u_y u_z v_x v_y v_z')"
   ]
  },
  {
   "cell_type": "code",
   "execution_count": 6,
   "metadata": {},
   "outputs": [],
   "source": [
    "u = smp.Matrix([ux, uy, uz])\n",
    "v = smp.Matrix([vx, vy, vz])"
   ]
  },
  {
   "cell_type": "code",
   "execution_count": 7,
   "metadata": {},
   "outputs": [
    {
     "data": {
      "text/latex": [
       "$\\displaystyle \\left[\\begin{matrix}0 & - u_{z} & u_{y}\\\\u_{z} & 0 & - u_{x}\\\\- u_{y} & u_{x} & 0\\end{matrix}\\right]$"
      ],
      "text/plain": [
       "Matrix([\n",
       "[   0, -u_z,  u_y],\n",
       "[ u_z,    0, -u_x],\n",
       "[-u_y,  u_x,    0]])"
      ]
     },
     "execution_count": 7,
     "metadata": {},
     "output_type": "execute_result"
    }
   ],
   "source": [
    "W = smp.Matrix([[0, -u[2], u[1]], [u[2], 0, -u[0]], [-u[1], u[0], 0]])\n",
    "W"
   ]
  },
  {
   "cell_type": "code",
   "execution_count": 8,
   "metadata": {},
   "outputs": [],
   "source": [
    "theta = smp.symbols('theta')"
   ]
  },
  {
   "cell_type": "code",
   "execution_count": 9,
   "metadata": {},
   "outputs": [
    {
     "data": {
      "text/latex": [
       "$\\displaystyle \\left[\\begin{matrix}- u_{y}^{2} \\cdot \\left(1 - \\cos{\\left(\\theta \\right)}\\right) - u_{z}^{2} \\cdot \\left(1 - \\cos{\\left(\\theta \\right)}\\right) + 1 & u_{x} u_{y} \\left(1 - \\cos{\\left(\\theta \\right)}\\right) - u_{z} \\sin{\\left(\\theta \\right)} & u_{x} u_{z} \\left(1 - \\cos{\\left(\\theta \\right)}\\right) + u_{y} \\sin{\\left(\\theta \\right)}\\\\u_{x} u_{y} \\left(1 - \\cos{\\left(\\theta \\right)}\\right) + u_{z} \\sin{\\left(\\theta \\right)} & - u_{x}^{2} \\cdot \\left(1 - \\cos{\\left(\\theta \\right)}\\right) - u_{z}^{2} \\cdot \\left(1 - \\cos{\\left(\\theta \\right)}\\right) + 1 & - u_{x} \\sin{\\left(\\theta \\right)} + u_{y} u_{z} \\left(1 - \\cos{\\left(\\theta \\right)}\\right)\\\\u_{x} u_{z} \\left(1 - \\cos{\\left(\\theta \\right)}\\right) - u_{y} \\sin{\\left(\\theta \\right)} & u_{x} \\sin{\\left(\\theta \\right)} + u_{y} u_{z} \\left(1 - \\cos{\\left(\\theta \\right)}\\right) & - u_{x}^{2} \\cdot \\left(1 - \\cos{\\left(\\theta \\right)}\\right) - u_{y}^{2} \\cdot \\left(1 - \\cos{\\left(\\theta \\right)}\\right) + 1\\end{matrix}\\right]$"
      ],
      "text/plain": [
       "Matrix([\n",
       "[-u_y**2*(1 - cos(theta)) - u_z**2*(1 - cos(theta)) + 1,              u_x*u_y*(1 - cos(theta)) - u_z*sin(theta),              u_x*u_z*(1 - cos(theta)) + u_y*sin(theta)],\n",
       "[             u_x*u_y*(1 - cos(theta)) + u_z*sin(theta), -u_x**2*(1 - cos(theta)) - u_z**2*(1 - cos(theta)) + 1,             -u_x*sin(theta) + u_y*u_z*(1 - cos(theta))],\n",
       "[             u_x*u_z*(1 - cos(theta)) - u_y*sin(theta),              u_x*sin(theta) + u_y*u_z*(1 - cos(theta)), -u_x**2*(1 - cos(theta)) - u_y**2*(1 - cos(theta)) + 1]])"
      ]
     },
     "execution_count": 9,
     "metadata": {},
     "output_type": "execute_result"
    }
   ],
   "source": [
    "I = smp.eye(3)\n",
    "R = I + smp.sin(theta)*W + (1 - smp.cos(theta))*W*W\n",
    "R"
   ]
  },
  {
   "cell_type": "code",
   "execution_count": 10,
   "metadata": {},
   "outputs": [
    {
     "data": {
      "text/latex": [
       "$\\displaystyle \\left[\\begin{matrix}v_{x} \\left(- u_{y}^{2} \\cdot \\left(1 - \\cos{\\left(\\theta \\right)}\\right) - u_{z}^{2} \\cdot \\left(1 - \\cos{\\left(\\theta \\right)}\\right) + 1\\right) + v_{y} \\left(u_{x} u_{y} \\left(1 - \\cos{\\left(\\theta \\right)}\\right) - u_{z} \\sin{\\left(\\theta \\right)}\\right) + v_{z} \\left(u_{x} u_{z} \\left(1 - \\cos{\\left(\\theta \\right)}\\right) + u_{y} \\sin{\\left(\\theta \\right)}\\right)\\\\v_{x} \\left(u_{x} u_{y} \\left(1 - \\cos{\\left(\\theta \\right)}\\right) + u_{z} \\sin{\\left(\\theta \\right)}\\right) + v_{y} \\left(- u_{x}^{2} \\cdot \\left(1 - \\cos{\\left(\\theta \\right)}\\right) - u_{z}^{2} \\cdot \\left(1 - \\cos{\\left(\\theta \\right)}\\right) + 1\\right) + v_{z} \\left(- u_{x} \\sin{\\left(\\theta \\right)} + u_{y} u_{z} \\left(1 - \\cos{\\left(\\theta \\right)}\\right)\\right)\\\\v_{x} \\left(u_{x} u_{z} \\left(1 - \\cos{\\left(\\theta \\right)}\\right) - u_{y} \\sin{\\left(\\theta \\right)}\\right) + v_{y} \\left(u_{x} \\sin{\\left(\\theta \\right)} + u_{y} u_{z} \\left(1 - \\cos{\\left(\\theta \\right)}\\right)\\right) + v_{z} \\left(- u_{x}^{2} \\cdot \\left(1 - \\cos{\\left(\\theta \\right)}\\right) - u_{y}^{2} \\cdot \\left(1 - \\cos{\\left(\\theta \\right)}\\right) + 1\\right)\\end{matrix}\\right]$"
      ],
      "text/plain": [
       "Matrix([\n",
       "[ v_x*(-u_y**2*(1 - cos(theta)) - u_z**2*(1 - cos(theta)) + 1) + v_y*(u_x*u_y*(1 - cos(theta)) - u_z*sin(theta)) + v_z*(u_x*u_z*(1 - cos(theta)) + u_y*sin(theta))],\n",
       "[v_x*(u_x*u_y*(1 - cos(theta)) + u_z*sin(theta)) + v_y*(-u_x**2*(1 - cos(theta)) - u_z**2*(1 - cos(theta)) + 1) + v_z*(-u_x*sin(theta) + u_y*u_z*(1 - cos(theta)))],\n",
       "[ v_x*(u_x*u_z*(1 - cos(theta)) - u_y*sin(theta)) + v_y*(u_x*sin(theta) + u_y*u_z*(1 - cos(theta))) + v_z*(-u_x**2*(1 - cos(theta)) - u_y**2*(1 - cos(theta)) + 1)]])"
      ]
     },
     "execution_count": 10,
     "metadata": {},
     "output_type": "execute_result"
    }
   ],
   "source": [
    "b = R*v\n",
    "b"
   ]
  },
  {
   "cell_type": "code",
   "execution_count": 11,
   "metadata": {},
   "outputs": [],
   "source": [
    "# b.subs({ux: 1, uy: 0, uz: 0, vx: 0, vy: 1, vz: 0, theta: smp.pi/2})"
   ]
  },
  {
   "cell_type": "markdown",
   "metadata": {},
   "source": [
    "# For system WR140\n",
    "\n",
    "$\\omega$ = 227.44\n",
    "$i$ = 119.07\n",
    "$\\Omega$ = 353.87\n",
    "\n",
    "North vector is (1,0,0)"
   ]
  },
  {
   "cell_type": "code",
   "execution_count": 14,
   "metadata": {},
   "outputs": [],
   "source": [
    "from math import radians"
   ]
  },
  {
   "cell_type": "code",
   "execution_count": 25,
   "metadata": {},
   "outputs": [
    {
     "data": {
      "text/latex": [
       "$\\displaystyle \\left[\\begin{matrix}-0.676361912062459\\\\-0.736569456270903\\\\0\\end{matrix}\\right]$"
      ],
      "text/plain": [
       "Matrix([\n",
       "[-0.676361912062459],\n",
       "[-0.736569456270903],\n",
       "[                 0]])"
      ]
     },
     "execution_count": 25,
     "metadata": {},
     "output_type": "execute_result"
    }
   ],
   "source": [
    "n_v = new_north_vector.subs({omega: radians(227.44-180), ax: -1, ay: 0, az: 0})\n",
    "n_v\n"
   ]
  },
  {
   "cell_type": "code",
   "execution_count": 26,
   "metadata": {},
   "outputs": [
    {
     "data": {
      "text/latex": [
       "$\\displaystyle \\left[\\begin{matrix}-0.994282168096412\\\\0.106784690876074\\\\0\\end{matrix}\\right]$"
      ],
      "text/plain": [
       "Matrix([\n",
       "[-0.994282168096412],\n",
       "[ 0.106784690876074],\n",
       "[                 0]])"
      ]
     },
     "execution_count": 26,
     "metadata": {},
     "output_type": "execute_result"
    }
   ],
   "source": [
    "lan = new_north_vector.subs({omega: radians(353.87), ax: -1, ay: 0, az: 0})\n",
    "lan"
   ]
  },
  {
   "cell_type": "code",
   "execution_count": 27,
   "metadata": {},
   "outputs": [
    {
     "data": {
      "text/latex": [
       "$\\displaystyle \\left[\\begin{matrix}-0.548699534306991\\\\0.452106792147122\\\\0.70322703982834\\end{matrix}\\right]$"
      ],
      "text/plain": [
       "Matrix([\n",
       "[-0.548699534306991],\n",
       "[ 0.452106792147122],\n",
       "[  0.70322703982834]])"
      ]
     },
     "execution_count": 27,
     "metadata": {},
     "output_type": "execute_result"
    }
   ],
   "source": [
    "r_nv = b.subs({ux: lan[0], uy: lan[1], uz: lan[2], vx: n_v[0], vy: n_v[1], vz: n_v[2], theta: radians(119.07)})\n",
    "r_nv"
   ]
  },
  {
   "cell_type": "code",
   "execution_count": null,
   "metadata": {},
   "outputs": [],
   "source": []
  }
 ],
 "metadata": {
  "kernelspec": {
   "display_name": "Python 3.8.10 ('env')",
   "language": "python",
   "name": "python3"
  },
  "language_info": {
   "codemirror_mode": {
    "name": "ipython",
    "version": 3
   },
   "file_extension": ".py",
   "mimetype": "text/x-python",
   "name": "python",
   "nbconvert_exporter": "python",
   "pygments_lexer": "ipython3",
   "version": "3.8.10"
  },
  "orig_nbformat": 4,
  "vscode": {
   "interpreter": {
    "hash": "40a36c5750d9eff67de0d7f17c8d6f4ec29c227bb80165b326fe4f6d1480f8fd"
   }
  }
 },
 "nbformat": 4,
 "nbformat_minor": 2
}
