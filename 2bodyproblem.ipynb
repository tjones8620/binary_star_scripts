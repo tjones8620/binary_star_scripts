{
 "cells": [
  {
   "cell_type": "code",
   "execution_count": 180,
   "metadata": {},
   "outputs": [],
   "source": [
    "import numpy as np\n",
    "import matplotlib.pyplot as plt\n",
    "from matplotlib import animation\n",
    "from mpl_toolkits.mplot3d import Axes3D \n",
    "from matplotlib.animation import PillowWriter\n",
    "from astropy import constants as const\n",
    "import astropy.units as u\n",
    "from scipy.integrate import odeint, solve_ivp\n",
    "\n",
    "from calculating_velocity import binary_perast_vel"
   ]
  },
  {
   "cell_type": "code",
   "execution_count": 181,
   "metadata": {},
   "outputs": [
    {
     "data": {
      "text/plain": [
       "(16350485.091433516,\n",
       " -5759258.670744089,\n",
       " 15092476415522.402,\n",
       " -5316140479809.905)"
      ]
     },
     "execution_count": 181,
     "metadata": {},
     "output_type": "execute_result"
    }
   ],
   "source": [
    "from calculating_velocity import binary_perast_vel\n",
    "\n",
    "vy1, vy2, x_1, x_2 = binary_perast_vel(0.8993, 2895, 10.31, 29.27)\n",
    "\n",
    "vy1.value, vy2.value, x_1.value, x_2.value"
   ]
  },
  {
   "cell_type": "code",
   "execution_count": 182,
   "metadata": {},
   "outputs": [],
   "source": [
    "G = (const.G.cgs.value)\n",
    "M_sun = (const.M_sun.cgs.value)\n",
    "AU = (const.au.cgs.value)\n",
    "\n",
    "e, P, m1, m2 = 0.8993, 2895, 10.31, 29.27\n",
    "\n",
    "m1 = m1 * M_sun\n",
    "m2 = m2 * M_sun\n",
    "x1_0 = (x_1.value)\n",
    "y1_0 = 0\n",
    "x2_0 = (x_2.value)\n",
    "y2_0 = 0\n",
    "vx1_0 = 0\n",
    "vy1_0 = (vy1.value)\n",
    "vx2_0 = 0\n",
    "vy2_0 = (vy2.value)\n"
   ]
  },
  {
   "cell_type": "code",
   "execution_count": 183,
   "metadata": {},
   "outputs": [],
   "source": [
    "def dSdt(S, t):\n",
    "    x1, y1, x2, y2, vx1, vy1, vx2, vy2 = S\n",
    "    r12 = np.sqrt((x2-x1)**2 + (y2-y1)**2)\n",
    "\n",
    "    return [\n",
    "        vx1,\n",
    "        vy1,\n",
    "        vx2,\n",
    "        vy2,\n",
    "        G*m2/r12**3 *(x2-x1),\n",
    "        G*m2/r12**3 *(y2-y1),\n",
    "        G*m1/r12**3 *(x1-x2),\n",
    "        G*m1/r12**3 *(y1-y2)\n",
    "    ]"
   ]
  },
  {
   "cell_type": "code",
   "execution_count": 184,
   "metadata": {},
   "outputs": [],
   "source": [
    "t = np.linspace(0,8*365*24*60*60,10000)"
   ]
  },
  {
   "cell_type": "code",
   "execution_count": 186,
   "metadata": {},
   "outputs": [],
   "source": [
    "sol = odeint(dSdt , y0=[x1_0, y1_0, x2_0, y2_0, vx1_0, vy1_0, vx2_0, vy2_0], t=t)"
   ]
  },
  {
   "cell_type": "code",
   "execution_count": 400,
   "metadata": {},
   "outputs": [],
   "source": [
    "x1 = sol.T[0]\n",
    "y1 = sol.T[1]\n",
    "x2 = sol.T[2]\n",
    "y2 = sol.T[3]\n",
    "vx1 = sol.T[4]\n",
    "vy1 = sol.T[5]\n",
    "vx2 = sol.T[6]\n",
    "vy2 = sol.T[7]"
   ]
  },
  {
   "cell_type": "code",
   "execution_count": 419,
   "metadata": {},
   "outputs": [],
   "source": [
    "indices = []\n",
    "\n",
    "for i in range(len(vy1)-1):\n",
    "    vy1 = vy1/vy1.max()\n",
    "    if vy1[i+1]*vy1[i] < 0:\n",
    "        indices.append(i) "
   ]
  },
  {
   "cell_type": "code",
   "execution_count": 420,
   "metadata": {},
   "outputs": [],
   "source": [
    "vx1_covert = vx1[indices[0]]\n",
    "vx2_covert = vx2[indices[0]]\n",
    "\n",
    "x1_covert = x1[indices[0]]\n",
    "x2_covert = x2[indices[0]]\n",
    "\n",
    "y1_covert = y1[indices[0]]\n",
    "y2_covert = y2[indices[0]]"
   ]
  },
  {
   "cell_type": "code",
   "execution_count": null,
   "metadata": {},
   "outputs": [],
   "source": [
    "# fig, ax = plt.subplots()\n",
    "# ax.plot(x1, y1)\n",
    "# ax.plot(x2,y2)\n",
    "# ax.set_aspect(aspect=1)"
   ]
  },
  {
   "cell_type": "code",
   "execution_count": null,
   "metadata": {},
   "outputs": [],
   "source": [
    "# def animate(i):\n",
    "#     ln1.set_data([x1[i], x2[i]], [y1[i], y2[i]])\n",
    "#     text.set_text('Time = {:.2f} Years'.format(i*tt))\n",
    "# fig, ax = plt.subplots(1,1, figsize=(8,8))\n",
    "# ax.set_title(\"Orbital Motion of WR140\")\n",
    "# # ax.plot(xalist, yalist, ls = \"--\", color=\"k\")\n",
    "# # ax.plot(xblist, yblist, ls = \"--\", color=\"k\")\n",
    "# ln1, = plt.plot([], [], 'o', lw=3, markersize=16, color=\"yellow\")\n",
    "# text = plt.text(0.7, 0.7, '')\n",
    "# ax.set_ylim(-100, 100)\n",
    "# ax.set_xlim(-100, 100)\n",
    "# ani = animation.FuncAnimation(fig, animate, frames=2000, interval=500)\n",
    "# ani.save('binary.gif',writer='pillow',fps=30)"
   ]
  }
 ],
 "metadata": {
  "kernelspec": {
   "display_name": "Python 3.10.2 ('env')",
   "language": "python",
   "name": "python3"
  },
  "language_info": {
   "codemirror_mode": {
    "name": "ipython",
    "version": 3
   },
   "file_extension": ".py",
   "mimetype": "text/x-python",
   "name": "python",
   "nbconvert_exporter": "python",
   "pygments_lexer": "ipython3",
   "version": "3.10.2"
  },
  "orig_nbformat": 4,
  "vscode": {
   "interpreter": {
    "hash": "651b1a817bfeadf5dd9d12abb1097a82935e5e259cd2227b4ea064e787cccb53"
   }
  }
 },
 "nbformat": 4,
 "nbformat_minor": 2
}
